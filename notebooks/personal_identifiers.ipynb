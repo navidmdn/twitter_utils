{
 "cells": [
  {
   "cell_type": "markdown",
   "id": "c169806a",
   "metadata": {},
   "source": [
    "# imports and configs"
   ]
  },
  {
   "cell_type": "code",
   "execution_count": 1,
   "id": "4820d026",
   "metadata": {},
   "outputs": [],
   "source": [
    "import os\n",
    "import sys\n",
    "import pathlib"
   ]
  },
  {
   "cell_type": "code",
   "execution_count": 2,
   "id": "a55c9623",
   "metadata": {},
   "outputs": [],
   "source": [
    "USERS_PATH = '/home/smadani/data/dh_users/*.parquet'"
   ]
  },
  {
   "cell_type": "code",
   "execution_count": 3,
   "id": "e0d0e440",
   "metadata": {},
   "outputs": [
    {
     "name": "stdout",
     "output_type": "stream",
     "text": [
      "22/06/24 09:38:44 WARN Utils: Your hostname, achtung07 resolves to a loopback address: 127.0.0.1; using 192.168.2.7 instead (on interface enp65s0f0)\n",
      "22/06/24 09:38:44 WARN Utils: Set SPARK_LOCAL_IP if you need to bind to another address\n"
     ]
    },
    {
     "name": "stderr",
     "output_type": "stream",
     "text": [
      "Setting default log level to \"WARN\".\n",
      "To adjust logging level use sc.setLogLevel(newLevel). For SparkR, use setLogLevel(newLevel).\n"
     ]
    },
    {
     "name": "stdout",
     "output_type": "stream",
     "text": [
      "22/06/24 09:38:45 WARN NativeCodeLoader: Unable to load native-hadoop library for your platform... using builtin-java classes where applicable\n",
      "22/06/24 09:38:46 WARN Utils: Service 'SparkUI' could not bind on port 4040. Attempting port 4041.\n",
      "22/06/24 09:38:46 WARN Utils: Service 'SparkUI' could not bind on port 4041. Attempting port 4042.\n"
     ]
    }
   ],
   "source": [
    "import pandas as pd\n",
    "import pyspark.sql.functions as F\n",
    "import pyspark.sql.types as T\n",
    "from pyspark.sql.window import Window\n",
    "import pickle\n",
    "\n",
    "from glob import glob\n",
    "from pyspark.sql import SparkSession\n",
    "from tqdm import tqdm\n",
    "\n",
    "spark = (\n",
    "    SparkSession\n",
    "    .builder\n",
    "    .master(\"local[{}]\".format(60))\n",
    "    .config(\"spark.driver.memory\", \"{}g\".format(30))\n",
    "    .config(\"spark.driver.maxResultSize\", f\"{10}g\")\n",
    "    .getOrCreate()\n",
    ")\n"
   ]
  },
  {
   "cell_type": "markdown",
   "id": "720ba149",
   "metadata": {},
   "source": [
    "# load users table"
   ]
  },
  {
   "cell_type": "code",
   "execution_count": 4,
   "id": "168e4d20",
   "metadata": {},
   "outputs": [
    {
     "name": "stderr",
     "output_type": "stream",
     "text": [
      "                                                                                \r"
     ]
    }
   ],
   "source": [
    "users_df = spark.read.parquet(USERS_PATH)\n",
    "users_df = users_df.dropDuplicates(subset=['uid'])\n",
    "#users_df.show(5)\n",
    "#users_df.count()"
   ]
  },
  {
   "cell_type": "markdown",
   "id": "accd3571",
   "metadata": {},
   "source": [
    "## extract PIs"
   ]
  },
  {
   "cell_type": "code",
   "execution_count": 11,
   "id": "b0e5edb9",
   "metadata": {},
   "outputs": [],
   "source": [
    "import re\n",
    "import emoji\n",
    "\n",
    "\n",
    "def distinct_emoji_list(string):\n",
    "    \"\"\"Resturns distinct list of emojis from the string\"\"\"\n",
    "    return {x['emoji'] for x in emoji.emoji_list(string)}\n",
    "\n",
    "\n",
    "def clean_personal_marker(phrase):\n",
    "    \"\"\" Clean a clause extracted from a description\"\"\"\n",
    "    if not phrase:\n",
    "        return None\n",
    "\n",
    "    # drop weird special characters\n",
    "    phrase = phrase.encode('ascii', errors='ignore').decode().strip()\n",
    "    x_prev = phrase\n",
    "\n",
    "    while True:\n",
    "        # remove excess whitespace\n",
    "        phrase = re.sub(r\"\\s+\", \" \", phrase).strip()\n",
    "\n",
    "        # address common cases\n",
    "        phrase = re.sub(r\"^i (love|like|enjoy) \", \"\", phrase)\n",
    "        phrase = re.sub(r\"^(i am|i'm|i'm) (a |an )?\", \"\", phrase)\n",
    "        phrase = re.sub(r\"^(i |a[n]?)\\b\", \"\", phrase)\n",
    "        phrase = re.sub(r\"^(and|the|from|to)\\b\", \"\", phrase)\n",
    "        phrase = re.sub(r\" of$\", \"\", phrase)\n",
    "        phrase = re.sub(r'(on )?(snapchat|snap|ig|insta|instagram|email|phone): +[A-Za-z0-9_@.-]+', \" \", phrase)\n",
    "        phrase = re.sub(r'\\u200d', \"\", phrase)\n",
    "\n",
    "        phrase = phrase.replace(\"#\", \"\")\n",
    "        phrase = phrase.strip().strip(\".,/!-]+[#@:)(-?'$%&_\").strip()\n",
    "        phrase = re.sub(r\"[!\\(\\)?.\\{\\}]\", \" \", phrase).strip()\n",
    "        if phrase == x_prev:\n",
    "            return phrase\n",
    "\n",
    "        x_prev = phrase\n",
    "\n",
    "\n",
    "def generate_split_profile_description(description):\n",
    "    \"\"\"Splits up a profile description into a set of clauses. Returns the clauses and\n",
    "    all emojis in the description (which are being treated as identity markers)\n",
    "    \"\"\"\n",
    "\n",
    "    # remove URLs and email addresses\n",
    "    d = re.sub(r'\\w+@\\w+\\.\\w+', '', description.lower()).strip()\n",
    "    d = re.sub(r'http\\S+', '', d).strip()\n",
    "    d = d.replace(\"&emsp;\", \"\").replace(\"&nbsp;\", \"\")\n",
    "\n",
    "    # get all emoji and remember them, then treat them as split characters\n",
    "    emojis = distinct_emoji_list(d)\n",
    "    d = emoji.get_emoji_regexp().sub(\"|\", d)  # .encode(\"ascii\",\"namereplace\").decode()\n",
    "\n",
    "    # split on sensible split characters\n",
    "    # | and\n",
    "    spl = [x for x in re.split(\n",
    "        r\"[\\(\\)|•*;~°,\\n\\t]|[!…]+|[-–\\/.]+ | [&+:]+ | [+] |([\\/])(?=[A-Za-z ])|([.!-]{2,})| and |([#@][A-Za-z0-9_]+)\",\n",
    "        d.lower()) if (\n",
    "                   x and x.strip() != \"\" and not x.strip() in \"|•&*#;~°.!…-/–\")]\n",
    "\n",
    "    # clean all clauses\n",
    "    spl = [clean_personal_marker(x) for x in spl]\n",
    "    # remove weird things and things that become empty\n",
    "    spl = [x for x in spl if x.strip() != \"\" and x.encode() != b'\\xef\\xb8\\x8f']\n",
    "    return spl, emojis\n",
    "\n",
    "\n",
    "def find_identifiers_simple(description):\n",
    "    spl, emojis = generate_split_profile_description(description)\n",
    "    spl = [s for s in spl if len(s.split(' '))<4]\n",
    "    return spl, emojis\n"
   ]
  },
  {
   "cell_type": "code",
   "execution_count": 12,
   "id": "8103cbe3",
   "metadata": {},
   "outputs": [],
   "source": [
    "@F.udf(returnType=T.ArrayType(T.StringType()))\n",
    "def extract_pid(bio):\n",
    "    return find_identifiers_simple(bio)[0]\n",
    "\n",
    "user_to_pi = (\n",
    "    users_df\n",
    "    .dropDuplicates(subset=['uid'])\n",
    "    .withColumn('pi', extract_pid('description'))\n",
    "    .select('uid', 'pi')\n",
    ")\n",
    "\n",
    "#user_to_pi.persist()\n",
    "\n",
    "#user_to_pi.select('pi').show(10, False)"
   ]
  },
  {
   "cell_type": "code",
   "execution_count": 13,
   "id": "a828e498",
   "metadata": {},
   "outputs": [
    {
     "name": "stderr",
     "output_type": "stream",
     "text": [
      "/tmp/ipykernel_3732996/4218524287.py:53: DeprecationWarning: 'emoji.get_emoji_regexp()' is deprecated and will be removed in version 2.0.0. If you want to remove emoji from a string, consider the method emoji.replace_emoji(str, replace='').\n",
      "To hide this warning, pin/downgrade the package to 'emoji~=1.6.3'\n",
      "/tmp/ipykernel_3732996/4218524287.py:53: DeprecationWarning: 'emoji.get_emoji_regexp()' is deprecated and will be removed in version 2.0.0. If you want to remove emoji from a string, consider the method emoji.replace_emoji(str, replace='').\n",
      "To hide this warning, pin/downgrade the package to 'emoji~=1.6.3'\n",
      "/tmp/ipykernel_3732996/4218524287.py:53: DeprecationWarning: 'emoji.get_emoji_regexp()' is deprecated and will be removed in version 2.0.0. If you want to remove emoji from a string, consider the method emoji.replace_emoji(str, replace='').\n",
      "To hide this warning, pin/downgrade the package to 'emoji~=1.6.3'\n",
      "/tmp/ipykernel_3732996/4218524287.py:53: DeprecationWarning: 'emoji.get_emoji_regexp()' is deprecated and will be removed in version 2.0.0. If you want to remove emoji from a string, consider the method emoji.replace_emoji(str, replace='').\n",
      "To hide this warning, pin/downgrade the package to 'emoji~=1.6.3'\n",
      "/tmp/ipykernel_3732996/4218524287.py:53: DeprecationWarning: 'emoji.get_emoji_regexp()' is deprecated and will be removed in version 2.0.0. If you want to remove emoji from a string, consider the method emoji.replace_emoji(str, replace='').\n",
      "To hide this warning, pin/downgrade the package to 'emoji~=1.6.3'\n",
      "/tmp/ipykernel_3732996/4218524287.py:53: DeprecationWarning: 'emoji.get_emoji_regexp()' is deprecated and will be removed in version 2.0.0. If you want to remove emoji from a string, consider the method emoji.replace_emoji(str, replace='').\n",
      "To hide this warning, pin/downgrade the package to 'emoji~=1.6.3'\n",
      "/tmp/ipykernel_3732996/4218524287.py:53: DeprecationWarning: 'emoji.get_emoji_regexp()' is deprecated and will be removed in version 2.0.0. If you want to remove emoji from a string, consider the method emoji.replace_emoji(str, replace='').\n",
      "To hide this warning, pin/downgrade the package to 'emoji~=1.6.3'\n",
      "/tmp/ipykernel_3732996/4218524287.py:53: DeprecationWarning: 'emoji.get_emoji_regexp()' is deprecated and will be removed in version 2.0.0. If you want to remove emoji from a string, consider the method emoji.replace_emoji(str, replace='').\n",
      "To hide this warning, pin/downgrade the package to 'emoji~=1.6.3'\n",
      "/tmp/ipykernel_3732996/4218524287.py:53: DeprecationWarning: 'emoji.get_emoji_regexp()' is deprecated and will be removed in version 2.0.0. If you want to remove emoji from a string, consider the method emoji.replace_emoji(str, replace='').\n",
      "To hide this warning, pin/downgrade the package to 'emoji~=1.6.3'\n",
      "/tmp/ipykernel_3732996/4218524287.py:53: DeprecationWarning: 'emoji.get_emoji_regexp()' is deprecated and will be removed in version 2.0.0. If you want to remove emoji from a string, consider the method emoji.replace_emoji(str, replace='').\n",
      "To hide this warning, pin/downgrade the package to 'emoji~=1.6.3'\n",
      "/tmp/ipykernel_3732996/4218524287.py:53: DeprecationWarning: 'emoji.get_emoji_regexp()' is deprecated and will be removed in version 2.0.0. If you want to remove emoji from a string, consider the method emoji.replace_emoji(str, replace='').\n",
      "To hide this warning, pin/downgrade the package to 'emoji~=1.6.3'\n",
      "/tmp/ipykernel_3732996/4218524287.py:53: DeprecationWarning: 'emoji.get_emoji_regexp()' is deprecated and will be removed in version 2.0.0. If you want to remove emoji from a string, consider the method emoji.replace_emoji(str, replace='').\n",
      "To hide this warning, pin/downgrade the package to 'emoji~=1.6.3'\n",
      "/tmp/ipykernel_3732996/4218524287.py:53: DeprecationWarning: 'emoji.get_emoji_regexp()' is deprecated and will be removed in version 2.0.0. If you want to remove emoji from a string, consider the method emoji.replace_emoji(str, replace='').\n",
      "To hide this warning, pin/downgrade the package to 'emoji~=1.6.3'\n",
      "/tmp/ipykernel_3732996/4218524287.py:53: DeprecationWarning: 'emoji.get_emoji_regexp()' is deprecated and will be removed in version 2.0.0. If you want to remove emoji from a string, consider the method emoji.replace_emoji(str, replace='').\n",
      "To hide this warning, pin/downgrade the package to 'emoji~=1.6.3'\n",
      "/tmp/ipykernel_3732996/4218524287.py:53: DeprecationWarning: 'emoji.get_emoji_regexp()' is deprecated and will be removed in version 2.0.0. If you want to remove emoji from a string, consider the method emoji.replace_emoji(str, replace='').\n",
      "To hide this warning, pin/downgrade the package to 'emoji~=1.6.3'\n",
      "/tmp/ipykernel_3732996/4218524287.py:53: DeprecationWarning: 'emoji.get_emoji_regexp()' is deprecated and will be removed in version 2.0.0. If you want to remove emoji from a string, consider the method emoji.replace_emoji(str, replace='').\n",
      "To hide this warning, pin/downgrade the package to 'emoji~=1.6.3'\n",
      "/tmp/ipykernel_3732996/4218524287.py:53: DeprecationWarning: 'emoji.get_emoji_regexp()' is deprecated and will be removed in version 2.0.0. If you want to remove emoji from a string, consider the method emoji.replace_emoji(str, replace='').\n",
      "To hide this warning, pin/downgrade the package to 'emoji~=1.6.3'\n",
      "/tmp/ipykernel_3732996/4218524287.py:53: DeprecationWarning: 'emoji.get_emoji_regexp()' is deprecated and will be removed in version 2.0.0. If you want to remove emoji from a string, consider the method emoji.replace_emoji(str, replace='').\n",
      "To hide this warning, pin/downgrade the package to 'emoji~=1.6.3'\n",
      "/tmp/ipykernel_3732996/4218524287.py:53: DeprecationWarning: 'emoji.get_emoji_regexp()' is deprecated and will be removed in version 2.0.0. If you want to remove emoji from a string, consider the method emoji.replace_emoji(str, replace='').\n",
      "To hide this warning, pin/downgrade the package to 'emoji~=1.6.3'\n",
      "/tmp/ipykernel_3732996/4218524287.py:53: DeprecationWarning: 'emoji.get_emoji_regexp()' is deprecated and will be removed in version 2.0.0. If you want to remove emoji from a string, consider the method emoji.replace_emoji(str, replace='').\n",
      "To hide this warning, pin/downgrade the package to 'emoji~=1.6.3'\n",
      "/tmp/ipykernel_3732996/4218524287.py:53: DeprecationWarning: 'emoji.get_emoji_regexp()' is deprecated and will be removed in version 2.0.0. If you want to remove emoji from a string, consider the method emoji.replace_emoji(str, replace='').\n",
      "To hide this warning, pin/downgrade the package to 'emoji~=1.6.3'\n",
      "/tmp/ipykernel_3732996/4218524287.py:53: DeprecationWarning: 'emoji.get_emoji_regexp()' is deprecated and will be removed in version 2.0.0. If you want to remove emoji from a string, consider the method emoji.replace_emoji(str, replace='').\n",
      "To hide this warning, pin/downgrade the package to 'emoji~=1.6.3'\n",
      "/tmp/ipykernel_3732996/4218524287.py:53: DeprecationWarning: 'emoji.get_emoji_regexp()' is deprecated and will be removed in version 2.0.0. If you want to remove emoji from a string, consider the method emoji.replace_emoji(str, replace='').\n",
      "To hide this warning, pin/downgrade the package to 'emoji~=1.6.3'\n",
      "/tmp/ipykernel_3732996/4218524287.py:53: DeprecationWarning: 'emoji.get_emoji_regexp()' is deprecated and will be removed in version 2.0.0. If you want to remove emoji from a string, consider the method emoji.replace_emoji(str, replace='').\n",
      "To hide this warning, pin/downgrade the package to 'emoji~=1.6.3'\n",
      "/tmp/ipykernel_3732996/4218524287.py:53: DeprecationWarning: 'emoji.get_emoji_regexp()' is deprecated and will be removed in version 2.0.0. If you want to remove emoji from a string, consider the method emoji.replace_emoji(str, replace='').\n",
      "To hide this warning, pin/downgrade the package to 'emoji~=1.6.3'\n",
      "/tmp/ipykernel_3732996/4218524287.py:53: DeprecationWarning: 'emoji.get_emoji_regexp()' is deprecated and will be removed in version 2.0.0. If you want to remove emoji from a string, consider the method emoji.replace_emoji(str, replace='').\n",
      "To hide this warning, pin/downgrade the package to 'emoji~=1.6.3'\n",
      "/tmp/ipykernel_3732996/4218524287.py:53: DeprecationWarning: 'emoji.get_emoji_regexp()' is deprecated and will be removed in version 2.0.0. If you want to remove emoji from a string, consider the method emoji.replace_emoji(str, replace='').\n",
      "To hide this warning, pin/downgrade the package to 'emoji~=1.6.3'\n",
      "/tmp/ipykernel_3732996/4218524287.py:53: DeprecationWarning: 'emoji.get_emoji_regexp()' is deprecated and will be removed in version 2.0.0. If you want to remove emoji from a string, consider the method emoji.replace_emoji(str, replace='').\n",
      "To hide this warning, pin/downgrade the package to 'emoji~=1.6.3'\n",
      "/tmp/ipykernel_3732996/4218524287.py:53: DeprecationWarning: 'emoji.get_emoji_regexp()' is deprecated and will be removed in version 2.0.0. If you want to remove emoji from a string, consider the method emoji.replace_emoji(str, replace='').\n",
      "To hide this warning, pin/downgrade the package to 'emoji~=1.6.3'\n"
     ]
    },
    {
     "name": "stderr",
     "output_type": "stream",
     "text": [
      "/tmp/ipykernel_3732996/4218524287.py:53: DeprecationWarning: 'emoji.get_emoji_regexp()' is deprecated and will be removed in version 2.0.0. If you want to remove emoji from a string, consider the method emoji.replace_emoji(str, replace='').\n",
      "To hide this warning, pin/downgrade the package to 'emoji~=1.6.3'\n",
      "/tmp/ipykernel_3732996/4218524287.py:53: DeprecationWarning: 'emoji.get_emoji_regexp()' is deprecated and will be removed in version 2.0.0. If you want to remove emoji from a string, consider the method emoji.replace_emoji(str, replace='').\n",
      "To hide this warning, pin/downgrade the package to 'emoji~=1.6.3'\n",
      "/tmp/ipykernel_3732996/4218524287.py:53: DeprecationWarning: 'emoji.get_emoji_regexp()' is deprecated and will be removed in version 2.0.0. If you want to remove emoji from a string, consider the method emoji.replace_emoji(str, replace='').\n",
      "To hide this warning, pin/downgrade the package to 'emoji~=1.6.3'\n",
      "/tmp/ipykernel_3732996/4218524287.py:53: DeprecationWarning: 'emoji.get_emoji_regexp()' is deprecated and will be removed in version 2.0.0. If you want to remove emoji from a string, consider the method emoji.replace_emoji(str, replace='').\n",
      "To hide this warning, pin/downgrade the package to 'emoji~=1.6.3'\n",
      "/tmp/ipykernel_3732996/4218524287.py:53: DeprecationWarning: 'emoji.get_emoji_regexp()' is deprecated and will be removed in version 2.0.0. If you want to remove emoji from a string, consider the method emoji.replace_emoji(str, replace='').\n",
      "To hide this warning, pin/downgrade the package to 'emoji~=1.6.3'\n",
      "/tmp/ipykernel_3732996/4218524287.py:53: DeprecationWarning: 'emoji.get_emoji_regexp()' is deprecated and will be removed in version 2.0.0. If you want to remove emoji from a string, consider the method emoji.replace_emoji(str, replace='').\n",
      "To hide this warning, pin/downgrade the package to 'emoji~=1.6.3'\n",
      "/tmp/ipykernel_3732996/4218524287.py:53: DeprecationWarning: 'emoji.get_emoji_regexp()' is deprecated and will be removed in version 2.0.0. If you want to remove emoji from a string, consider the method emoji.replace_emoji(str, replace='').\n",
      "To hide this warning, pin/downgrade the package to 'emoji~=1.6.3'\n",
      "/tmp/ipykernel_3732996/4218524287.py:53: DeprecationWarning: 'emoji.get_emoji_regexp()' is deprecated and will be removed in version 2.0.0. If you want to remove emoji from a string, consider the method emoji.replace_emoji(str, replace='').\n",
      "To hide this warning, pin/downgrade the package to 'emoji~=1.6.3'\n",
      "/tmp/ipykernel_3732996/4218524287.py:53: DeprecationWarning: 'emoji.get_emoji_regexp()' is deprecated and will be removed in version 2.0.0. If you want to remove emoji from a string, consider the method emoji.replace_emoji(str, replace='').\n",
      "To hide this warning, pin/downgrade the package to 'emoji~=1.6.3'\n",
      "/tmp/ipykernel_3732996/4218524287.py:53: DeprecationWarning: 'emoji.get_emoji_regexp()' is deprecated and will be removed in version 2.0.0. If you want to remove emoji from a string, consider the method emoji.replace_emoji(str, replace='').\n",
      "To hide this warning, pin/downgrade the package to 'emoji~=1.6.3'\n",
      "/tmp/ipykernel_3732996/4218524287.py:53: DeprecationWarning: 'emoji.get_emoji_regexp()' is deprecated and will be removed in version 2.0.0. If you want to remove emoji from a string, consider the method emoji.replace_emoji(str, replace='').\n",
      "To hide this warning, pin/downgrade the package to 'emoji~=1.6.3'\n",
      "/tmp/ipykernel_3732996/4218524287.py:53: DeprecationWarning: 'emoji.get_emoji_regexp()' is deprecated and will be removed in version 2.0.0. If you want to remove emoji from a string, consider the method emoji.replace_emoji(str, replace='').\n",
      "To hide this warning, pin/downgrade the package to 'emoji~=1.6.3'\n",
      "/tmp/ipykernel_3732996/4218524287.py:53: DeprecationWarning: 'emoji.get_emoji_regexp()' is deprecated and will be removed in version 2.0.0. If you want to remove emoji from a string, consider the method emoji.replace_emoji(str, replace='').\n",
      "To hide this warning, pin/downgrade the package to 'emoji~=1.6.3'\n",
      "/tmp/ipykernel_3732996/4218524287.py:53: DeprecationWarning: 'emoji.get_emoji_regexp()' is deprecated and will be removed in version 2.0.0. If you want to remove emoji from a string, consider the method emoji.replace_emoji(str, replace='').\n",
      "To hide this warning, pin/downgrade the package to 'emoji~=1.6.3'\n",
      "/tmp/ipykernel_3732996/4218524287.py:53: DeprecationWarning: 'emoji.get_emoji_regexp()' is deprecated and will be removed in version 2.0.0. If you want to remove emoji from a string, consider the method emoji.replace_emoji(str, replace='').\n",
      "To hide this warning, pin/downgrade the package to 'emoji~=1.6.3'\n",
      "/tmp/ipykernel_3732996/4218524287.py:53: DeprecationWarning: 'emoji.get_emoji_regexp()' is deprecated and will be removed in version 2.0.0. If you want to remove emoji from a string, consider the method emoji.replace_emoji(str, replace='').\n",
      "To hide this warning, pin/downgrade the package to 'emoji~=1.6.3'\n",
      "/tmp/ipykernel_3732996/4218524287.py:53: DeprecationWarning: 'emoji.get_emoji_regexp()' is deprecated and will be removed in version 2.0.0. If you want to remove emoji from a string, consider the method emoji.replace_emoji(str, replace='').\n",
      "To hide this warning, pin/downgrade the package to 'emoji~=1.6.3'\n",
      "/tmp/ipykernel_3732996/4218524287.py:53: DeprecationWarning: 'emoji.get_emoji_regexp()' is deprecated and will be removed in version 2.0.0. If you want to remove emoji from a string, consider the method emoji.replace_emoji(str, replace='').\n",
      "To hide this warning, pin/downgrade the package to 'emoji~=1.6.3'\n",
      "/tmp/ipykernel_3732996/4218524287.py:53: DeprecationWarning: 'emoji.get_emoji_regexp()' is deprecated and will be removed in version 2.0.0. If you want to remove emoji from a string, consider the method emoji.replace_emoji(str, replace='').\n",
      "To hide this warning, pin/downgrade the package to 'emoji~=1.6.3'\n",
      "/tmp/ipykernel_3732996/4218524287.py:53: DeprecationWarning: 'emoji.get_emoji_regexp()' is deprecated and will be removed in version 2.0.0. If you want to remove emoji from a string, consider the method emoji.replace_emoji(str, replace='').\n",
      "To hide this warning, pin/downgrade the package to 'emoji~=1.6.3'\n",
      "/tmp/ipykernel_3732996/4218524287.py:53: DeprecationWarning: 'emoji.get_emoji_regexp()' is deprecated and will be removed in version 2.0.0. If you want to remove emoji from a string, consider the method emoji.replace_emoji(str, replace='').\n",
      "To hide this warning, pin/downgrade the package to 'emoji~=1.6.3'\n",
      "/tmp/ipykernel_3732996/4218524287.py:53: DeprecationWarning: 'emoji.get_emoji_regexp()' is deprecated and will be removed in version 2.0.0. If you want to remove emoji from a string, consider the method emoji.replace_emoji(str, replace='').\n",
      "To hide this warning, pin/downgrade the package to 'emoji~=1.6.3'\n",
      "/tmp/ipykernel_3732996/4218524287.py:53: DeprecationWarning: 'emoji.get_emoji_regexp()' is deprecated and will be removed in version 2.0.0. If you want to remove emoji from a string, consider the method emoji.replace_emoji(str, replace='').\n",
      "To hide this warning, pin/downgrade the package to 'emoji~=1.6.3'\n",
      "/tmp/ipykernel_3732996/4218524287.py:53: DeprecationWarning: 'emoji.get_emoji_regexp()' is deprecated and will be removed in version 2.0.0. If you want to remove emoji from a string, consider the method emoji.replace_emoji(str, replace='').\n",
      "To hide this warning, pin/downgrade the package to 'emoji~=1.6.3'\n",
      "/tmp/ipykernel_3732996/4218524287.py:53: DeprecationWarning: 'emoji.get_emoji_regexp()' is deprecated and will be removed in version 2.0.0. If you want to remove emoji from a string, consider the method emoji.replace_emoji(str, replace='').\n",
      "To hide this warning, pin/downgrade the package to 'emoji~=1.6.3'\n",
      "/tmp/ipykernel_3732996/4218524287.py:53: DeprecationWarning: 'emoji.get_emoji_regexp()' is deprecated and will be removed in version 2.0.0. If you want to remove emoji from a string, consider the method emoji.replace_emoji(str, replace='').\n",
      "To hide this warning, pin/downgrade the package to 'emoji~=1.6.3'\n",
      "/tmp/ipykernel_3732996/4218524287.py:53: DeprecationWarning: 'emoji.get_emoji_regexp()' is deprecated and will be removed in version 2.0.0. If you want to remove emoji from a string, consider the method emoji.replace_emoji(str, replace='').\n",
      "To hide this warning, pin/downgrade the package to 'emoji~=1.6.3'\n",
      "/tmp/ipykernel_3732996/4218524287.py:53: DeprecationWarning: 'emoji.get_emoji_regexp()' is deprecated and will be removed in version 2.0.0. If you want to remove emoji from a string, consider the method emoji.replace_emoji(str, replace='').\n",
      "To hide this warning, pin/downgrade the package to 'emoji~=1.6.3'\n",
      "/tmp/ipykernel_3732996/4218524287.py:53: DeprecationWarning: 'emoji.get_emoji_regexp()' is deprecated and will be removed in version 2.0.0. If you want to remove emoji from a string, consider the method emoji.replace_emoji(str, replace='').\n",
      "To hide this warning, pin/downgrade the package to 'emoji~=1.6.3'\n",
      "/tmp/ipykernel_3732996/4218524287.py:53: DeprecationWarning: 'emoji.get_emoji_regexp()' is deprecated and will be removed in version 2.0.0. If you want to remove emoji from a string, consider the method emoji.replace_emoji(str, replace='').\n",
      "To hide this warning, pin/downgrade the package to 'emoji~=1.6.3'\n",
      "/tmp/ipykernel_3732996/4218524287.py:53: DeprecationWarning: 'emoji.get_emoji_regexp()' is deprecated and will be removed in version 2.0.0. If you want to remove emoji from a string, consider the method emoji.replace_emoji(str, replace='').\n",
      "To hide this warning, pin/downgrade the package to 'emoji~=1.6.3'\n"
     ]
    },
    {
     "name": "stderr",
     "output_type": "stream",
     "text": [
      "/tmp/ipykernel_3732996/4218524287.py:53: DeprecationWarning: 'emoji.get_emoji_regexp()' is deprecated and will be removed in version 2.0.0. If you want to remove emoji from a string, consider the method emoji.replace_emoji(str, replace='').\n",
      "To hide this warning, pin/downgrade the package to 'emoji~=1.6.3'\n",
      "/tmp/ipykernel_3732996/4218524287.py:53: DeprecationWarning: 'emoji.get_emoji_regexp()' is deprecated and will be removed in version 2.0.0. If you want to remove emoji from a string, consider the method emoji.replace_emoji(str, replace='').\n",
      "To hide this warning, pin/downgrade the package to 'emoji~=1.6.3'\n",
      "/tmp/ipykernel_3732996/4218524287.py:53: DeprecationWarning: 'emoji.get_emoji_regexp()' is deprecated and will be removed in version 2.0.0. If you want to remove emoji from a string, consider the method emoji.replace_emoji(str, replace='').\n",
      "To hide this warning, pin/downgrade the package to 'emoji~=1.6.3'\n",
      "/tmp/ipykernel_3732996/4218524287.py:53: DeprecationWarning: 'emoji.get_emoji_regexp()' is deprecated and will be removed in version 2.0.0. If you want to remove emoji from a string, consider the method emoji.replace_emoji(str, replace='').\n",
      "To hide this warning, pin/downgrade the package to 'emoji~=1.6.3'\n",
      "/tmp/ipykernel_3732996/4218524287.py:53: DeprecationWarning: 'emoji.get_emoji_regexp()' is deprecated and will be removed in version 2.0.0. If you want to remove emoji from a string, consider the method emoji.replace_emoji(str, replace='').\n",
      "To hide this warning, pin/downgrade the package to 'emoji~=1.6.3'\n",
      "/tmp/ipykernel_3732996/4218524287.py:53: DeprecationWarning: 'emoji.get_emoji_regexp()' is deprecated and will be removed in version 2.0.0. If you want to remove emoji from a string, consider the method emoji.replace_emoji(str, replace='').\n",
      "To hide this warning, pin/downgrade the package to 'emoji~=1.6.3'\n",
      "/tmp/ipykernel_3732996/4218524287.py:53: DeprecationWarning: 'emoji.get_emoji_regexp()' is deprecated and will be removed in version 2.0.0. If you want to remove emoji from a string, consider the method emoji.replace_emoji(str, replace='').\n",
      "To hide this warning, pin/downgrade the package to 'emoji~=1.6.3'\n",
      "                                                                                \r"
     ]
    },
    {
     "data": {
      "text/plain": [
       "[['doer', 'maker', 'photo-taker'],\n",
       " ['build things',\n",
       "  'foursquare',\n",
       "  'stockadefc',\n",
       "  'streetfc',\n",
       "  'dodgeball',\n",
       "  'husband to',\n",
       "  'chelsa',\n",
       "  'dad to',\n",
       "  'snowboards',\n",
       "  'soccer',\n",
       "  'hot dogs'],\n",
       " ['product', 'design leader', 'formerly', 'getfandom', 'ign', 'yahoo'],\n",
       " ['founder at',\n",
       "  'hellofahren',\n",
       "  'com',\n",
       "  'previously: led',\n",
       "  'gokartlabs',\n",
       "  'ameriprise',\n",
       "  'amex',\n",
       "  'dad',\n",
       "  'biker',\n",
       "  'guitaristcreate more',\n",
       "  'consume less'],\n",
       " ['compassionate technocrat', 'connector', 'instigator'],\n",
       " ['only human',\n",
       "  'ceo',\n",
       "  'visualisgood',\n",
       "  'journalism',\n",
       "  'vlogging',\n",
       "  'blacklivesmatter'],\n",
       " ['anti-racist', 'anti-fascist', 'fucktrump', 'ftp'],\n",
       " ['mother',\n",
       "  'designer',\n",
       "  'coder',\n",
       "  'writer',\n",
       "  'singer',\n",
       "  'complete geek',\n",
       "  '296 89',\n",
       "  'or my employer',\n",
       "  'she',\n",
       "  'her'],\n",
       " ['tweeting about startups',\n",
       "  'product design',\n",
       "  'development',\n",
       "  'ceo',\n",
       "  'todesktop',\n",
       "  'yc w20'],\n",
       " ['redacteur trends magazine',\n",
       "  'retail',\n",
       "  'technologie',\n",
       "  'nieuwsfreak',\n",
       "  'internetnerd']]"
      ]
     },
     "execution_count": 13,
     "metadata": {},
     "output_type": "execute_result"
    }
   ],
   "source": [
    "pis_list = list(user_to_pi.toPandas()['pi'])\n",
    "pis_list[:10]"
   ]
  },
  {
   "cell_type": "code",
   "execution_count": 14,
   "id": "5dd2f3f6",
   "metadata": {},
   "outputs": [
    {
     "data": {
      "text/plain": [
       "15459872"
      ]
     },
     "execution_count": 14,
     "metadata": {},
     "output_type": "execute_result"
    }
   ],
   "source": [
    "len(pis_list)"
   ]
  },
  {
   "cell_type": "code",
   "execution_count": 15,
   "id": "5c766b46",
   "metadata": {},
   "outputs": [],
   "source": [
    "with open('/home/smadani/data/pis2020.pkl', 'wb') as f:\n",
    "    pickle.dump(pis_list, f)"
   ]
  },
  {
   "cell_type": "code",
   "execution_count": null,
   "id": "faff9f2d",
   "metadata": {},
   "outputs": [],
   "source": []
  }
 ],
 "metadata": {
  "kernelspec": {
   "display_name": "Python 3 (ipykernel)",
   "language": "python",
   "name": "python3"
  },
  "language_info": {
   "codemirror_mode": {
    "name": "ipython",
    "version": 3
   },
   "file_extension": ".py",
   "mimetype": "text/x-python",
   "name": "python",
   "nbconvert_exporter": "python",
   "pygments_lexer": "ipython3",
   "version": "3.8.10"
  }
 },
 "nbformat": 4,
 "nbformat_minor": 5
}
